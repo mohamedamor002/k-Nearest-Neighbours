{
  "cells": [
    {
      "cell_type": "code",
      "execution_count": null,
      "id": "dc935896",
      "metadata": {
        "id": "dc935896",
        "outputId": "85e4b1c7-3026-47da-a678-9355c3e8687c",
        "colab": {
          "base_uri": "https://localhost:8080/"
        }
      },
      "outputs": [
        {
          "output_type": "stream",
          "name": "stdout",
          "text": [
            "5.1, 3.5, 1.4, 0.2, Iris-setosa\n",
            "4.9, 3.0, 1.4, 0.2, Iris-setosa\n",
            "4.7, 3.2, 1.3, 0.2, Iris-setosa\n",
            "4.6, 3.1, 1.5, 0.2, Iris-setosa\n",
            "5.0, 3.6, 1.4, 0.2, Iris-setosa\n",
            "5.4, 3.9, 1.7, 0.4, Iris-setosa\n",
            "4.6, 3.4, 1.4, 0.3, Iris-setosa\n",
            "5.0, 3.4, 1.5, 0.2, Iris-setosa\n",
            "4.4, 2.9, 1.4, 0.2, Iris-setosa\n",
            "4.9, 3.1, 1.5, 0.1, Iris-setosa\n",
            "5.4, 3.7, 1.5, 0.2, Iris-setosa\n",
            "4.8, 3.4, 1.6, 0.2, Iris-setosa\n",
            "4.8, 3.0, 1.4, 0.1, Iris-setosa\n",
            "4.3, 3.0, 1.1, 0.1, Iris-setosa\n",
            "5.8, 4.0, 1.2, 0.2, Iris-setosa\n",
            "5.7, 4.4, 1.5, 0.4, Iris-setosa\n",
            "5.4, 3.9, 1.3, 0.4, Iris-setosa\n",
            "5.1, 3.5, 1.4, 0.3, Iris-setosa\n",
            "5.7, 3.8, 1.7, 0.3, Iris-setosa\n",
            "5.1, 3.8, 1.5, 0.3, Iris-setosa\n",
            "5.4, 3.4, 1.7, 0.2, Iris-setosa\n",
            "5.1, 3.7, 1.5, 0.4, Iris-setosa\n",
            "4.6, 3.6, 1.0, 0.2, Iris-setosa\n",
            "5.1, 3.3, 1.7, 0.5, Iris-setosa\n",
            "4.8, 3.4, 1.9, 0.2, Iris-setosa\n",
            "5.0, 3.0, 1.6, 0.2, Iris-setosa\n",
            "5.0, 3.4, 1.6, 0.4, Iris-setosa\n",
            "5.2, 3.5, 1.5, 0.2, Iris-setosa\n",
            "5.2, 3.4, 1.4, 0.2, Iris-setosa\n",
            "4.7, 3.2, 1.6, 0.2, Iris-setosa\n",
            "4.8, 3.1, 1.6, 0.2, Iris-setosa\n",
            "5.4, 3.4, 1.5, 0.4, Iris-setosa\n",
            "5.2, 4.1, 1.5, 0.1, Iris-setosa\n",
            "5.5, 4.2, 1.4, 0.2, Iris-setosa\n",
            "4.9, 3.1, 1.5, 0.1, Iris-setosa\n",
            "5.0, 3.2, 1.2, 0.2, Iris-setosa\n",
            "5.5, 3.5, 1.3, 0.2, Iris-setosa\n",
            "4.9, 3.1, 1.5, 0.1, Iris-setosa\n",
            "4.4, 3.0, 1.3, 0.2, Iris-setosa\n",
            "5.1, 3.4, 1.5, 0.2, Iris-setosa\n",
            "5.0, 3.5, 1.3, 0.3, Iris-setosa\n",
            "4.5, 2.3, 1.3, 0.3, Iris-setosa\n",
            "4.4, 3.2, 1.3, 0.2, Iris-setosa\n",
            "5.0, 3.5, 1.6, 0.6, Iris-setosa\n",
            "5.1, 3.8, 1.9, 0.4, Iris-setosa\n",
            "4.8, 3.0, 1.4, 0.3, Iris-setosa\n",
            "5.1, 3.8, 1.6, 0.2, Iris-setosa\n",
            "4.6, 3.2, 1.4, 0.2, Iris-setosa\n",
            "5.3, 3.7, 1.5, 0.2, Iris-setosa\n",
            "5.0, 3.3, 1.4, 0.2, Iris-setosa\n",
            "7.0, 3.2, 4.7, 1.4, Iris-versicolor\n",
            "6.4, 3.2, 4.5, 1.5, Iris-versicolor\n",
            "6.9, 3.1, 4.9, 1.5, Iris-versicolor\n",
            "5.5, 2.3, 4.0, 1.3, Iris-versicolor\n",
            "6.5, 2.8, 4.6, 1.5, Iris-versicolor\n",
            "5.7, 2.8, 4.5, 1.3, Iris-versicolor\n",
            "6.3, 3.3, 4.7, 1.6, Iris-versicolor\n",
            "4.9, 2.4, 3.3, 1.0, Iris-versicolor\n",
            "6.6, 2.9, 4.6, 1.3, Iris-versicolor\n",
            "5.2, 2.7, 3.9, 1.4, Iris-versicolor\n",
            "5.0, 2.0, 3.5, 1.0, Iris-versicolor\n",
            "5.9, 3.0, 4.2, 1.5, Iris-versicolor\n",
            "6.0, 2.2, 4.0, 1.0, Iris-versicolor\n",
            "6.1, 2.9, 4.7, 1.4, Iris-versicolor\n",
            "5.6, 2.9, 3.6, 1.3, Iris-versicolor\n",
            "6.7, 3.1, 4.4, 1.4, Iris-versicolor\n",
            "5.6, 3.0, 4.5, 1.5, Iris-versicolor\n",
            "5.8, 2.7, 4.1, 1.0, Iris-versicolor\n",
            "6.2, 2.2, 4.5, 1.5, Iris-versicolor\n",
            "5.6, 2.5, 3.9, 1.1, Iris-versicolor\n",
            "5.9, 3.2, 4.8, 1.8, Iris-versicolor\n",
            "6.1, 2.8, 4.0, 1.3, Iris-versicolor\n",
            "6.3, 2.5, 4.9, 1.5, Iris-versicolor\n",
            "6.1, 2.8, 4.7, 1.2, Iris-versicolor\n",
            "6.4, 2.9, 4.3, 1.3, Iris-versicolor\n",
            "6.6, 3.0, 4.4, 1.4, Iris-versicolor\n",
            "6.8, 2.8, 4.8, 1.4, Iris-versicolor\n",
            "6.7, 3.0, 5.0, 1.7, Iris-versicolor\n",
            "6.0, 2.9, 4.5, 1.5, Iris-versicolor\n",
            "5.7, 2.6, 3.5, 1.0, Iris-versicolor\n",
            "5.5, 2.4, 3.8, 1.1, Iris-versicolor\n",
            "5.5, 2.4, 3.7, 1.0, Iris-versicolor\n",
            "5.8, 2.7, 3.9, 1.2, Iris-versicolor\n",
            "6.0, 2.7, 5.1, 1.6, Iris-versicolor\n",
            "5.4, 3.0, 4.5, 1.5, Iris-versicolor\n",
            "6.0, 3.4, 4.5, 1.6, Iris-versicolor\n",
            "6.7, 3.1, 4.7, 1.5, Iris-versicolor\n",
            "6.3, 2.3, 4.4, 1.3, Iris-versicolor\n",
            "5.6, 3.0, 4.1, 1.3, Iris-versicolor\n",
            "5.5, 2.5, 4.0, 1.3, Iris-versicolor\n",
            "5.5, 2.6, 4.4, 1.2, Iris-versicolor\n",
            "6.1, 3.0, 4.6, 1.4, Iris-versicolor\n",
            "5.8, 2.6, 4.0, 1.2, Iris-versicolor\n",
            "5.0, 2.3, 3.3, 1.0, Iris-versicolor\n",
            "5.6, 2.7, 4.2, 1.3, Iris-versicolor\n",
            "5.7, 3.0, 4.2, 1.2, Iris-versicolor\n",
            "5.7, 2.9, 4.2, 1.3, Iris-versicolor\n",
            "6.2, 2.9, 4.3, 1.3, Iris-versicolor\n",
            "5.1, 2.5, 3.0, 1.1, Iris-versicolor\n",
            "5.7, 2.8, 4.1, 1.3, Iris-versicolor\n",
            "6.3, 3.3, 6.0, 2.5, Iris-virginica\n",
            "5.8, 2.7, 5.1, 1.9, Iris-virginica\n",
            "7.1, 3.0, 5.9, 2.1, Iris-virginica\n",
            "6.3, 2.9, 5.6, 1.8, Iris-virginica\n",
            "6.5, 3.0, 5.8, 2.2, Iris-virginica\n",
            "7.6, 3.0, 6.6, 2.1, Iris-virginica\n",
            "4.9, 2.5, 4.5, 1.7, Iris-virginica\n",
            "7.3, 2.9, 6.3, 1.8, Iris-virginica\n",
            "6.7, 2.5, 5.8, 1.8, Iris-virginica\n",
            "7.2, 3.6, 6.1, 2.5, Iris-virginica\n",
            "6.5, 3.2, 5.1, 2.0, Iris-virginica\n",
            "6.4, 2.7, 5.3, 1.9, Iris-virginica\n",
            "6.8, 3.0, 5.5, 2.1, Iris-virginica\n",
            "5.7, 2.5, 5.0, 2.0, Iris-virginica\n",
            "5.8, 2.8, 5.1, 2.4, Iris-virginica\n",
            "6.4, 3.2, 5.3, 2.3, Iris-virginica\n",
            "6.5, 3.0, 5.5, 1.8, Iris-virginica\n",
            "7.7, 3.8, 6.7, 2.2, Iris-virginica\n",
            "7.7, 2.6, 6.9, 2.3, Iris-virginica\n",
            "6.0, 2.2, 5.0, 1.5, Iris-virginica\n",
            "6.9, 3.2, 5.7, 2.3, Iris-virginica\n",
            "5.6, 2.8, 4.9, 2.0, Iris-virginica\n",
            "7.7, 2.8, 6.7, 2.0, Iris-virginica\n",
            "6.3, 2.7, 4.9, 1.8, Iris-virginica\n",
            "6.7, 3.3, 5.7, 2.1, Iris-virginica\n",
            "7.2, 3.2, 6.0, 1.8, Iris-virginica\n",
            "6.2, 2.8, 4.8, 1.8, Iris-virginica\n",
            "6.1, 3.0, 4.9, 1.8, Iris-virginica\n",
            "6.4, 2.8, 5.6, 2.1, Iris-virginica\n",
            "7.2, 3.0, 5.8, 1.6, Iris-virginica\n",
            "7.4, 2.8, 6.1, 1.9, Iris-virginica\n",
            "7.9, 3.8, 6.4, 2.0, Iris-virginica\n",
            "6.4, 2.8, 5.6, 2.2, Iris-virginica\n",
            "6.3, 2.8, 5.1, 1.5, Iris-virginica\n",
            "6.1, 2.6, 5.6, 1.4, Iris-virginica\n",
            "7.7, 3.0, 6.1, 2.3, Iris-virginica\n",
            "6.3, 3.4, 5.6, 2.4, Iris-virginica\n",
            "6.4, 3.1, 5.5, 1.8, Iris-virginica\n",
            "6.0, 3.0, 4.8, 1.8, Iris-virginica\n",
            "6.9, 3.1, 5.4, 2.1, Iris-virginica\n",
            "6.7, 3.1, 5.6, 2.4, Iris-virginica\n",
            "6.9, 3.1, 5.1, 2.3, Iris-virginica\n",
            "5.8, 2.7, 5.1, 1.9, Iris-virginica\n",
            "6.8, 3.2, 5.9, 2.3, Iris-virginica\n",
            "6.7, 3.3, 5.7, 2.5, Iris-virginica\n",
            "6.7, 3.0, 5.2, 2.3, Iris-virginica\n",
            "6.3, 2.5, 5.0, 1.9, Iris-virginica\n",
            "6.5, 3.0, 5.2, 2.0, Iris-virginica\n",
            "6.2, 3.4, 5.4, 2.3, Iris-virginica\n",
            "5.9, 3.0, 5.1, 1.8, Iris-virginica\n"
          ]
        }
      ],
      "source": [
        "import csv\n",
        "\n",
        "with open('iris.data.txt', 'r') as csvfile:\n",
        "    lines = csv.reader(csvfile)\n",
        "    for row in lines :\n",
        "        print (', '.join(row))"
      ]
    },
    {
      "cell_type": "code",
      "execution_count": null,
      "id": "ab072dc2",
      "metadata": {
        "id": "ab072dc2"
      },
      "outputs": [],
      "source": [
        "import csv\n",
        "\n",
        "import random\n",
        "\n",
        "def loadDataset(filename, split, trainingSet=[] , testSet=[]):\n",
        "\n",
        "    with open(filename, 'r') as csvfile:\n",
        "\n",
        "      lines = csv.reader(csvfile)\n",
        "\n",
        "      dataset = list(lines)\n",
        "\n",
        "      for x in range(len(dataset)-1):\n",
        "\n",
        "        for y in range(4):\n",
        "\n",
        "          dataset[x][y] = float(dataset[x][y])\n",
        "    \n",
        "        if random.random() < split:\n",
        "            trainingSet.append(dataset[x])\n",
        "        else:\n",
        "            testSet.append(dataset[x])\n",
        "\n",
        "           "
      ]
    },
    {
      "cell_type": "code",
      "execution_count": null,
      "id": "8919e904",
      "metadata": {
        "id": "8919e904",
        "outputId": "4dd91056-03d9-486f-e43f-49beb4d58751",
        "colab": {
          "base_uri": "https://localhost:8080/"
        }
      },
      "outputs": [
        {
          "output_type": "stream",
          "name": "stdout",
          "text": [
            "Train: 99\n",
            "Test: 50\n"
          ]
        }
      ],
      "source": [
        "trainingSet=[]\n",
        "\n",
        "testSet=[]\n",
        "\n",
        "loadDataset('iris.data.txt', 0.66, trainingSet, testSet)\n",
        "\n",
        "print ('Train: ' + repr(len(trainingSet)))\n",
        "\n",
        "print ('Test: ' + repr(len(testSet)) )"
      ]
    },
    {
      "cell_type": "code",
      "execution_count": null,
      "id": "165b9aaf",
      "metadata": {
        "id": "165b9aaf"
      },
      "outputs": [],
      "source": [
        "import math\n",
        "\n",
        "def euclideanDistance(instance1, instance2, length):\n",
        "    distance = 0.0\n",
        "    for i in range(length-1):\n",
        "        distance += (instance1[i] - instance2[i])**2\n",
        "    return math.sqrt(distance)"
      ]
    },
    {
      "cell_type": "code",
      "execution_count": null,
      "id": "ac483e61",
      "metadata": {
        "id": "ac483e61",
        "outputId": "c73ed834-c509-42af-e29e-82d681478e6f",
        "colab": {
          "base_uri": "https://localhost:8080/"
        }
      },
      "outputs": [
        {
          "output_type": "stream",
          "name": "stdout",
          "text": [
            "Distance: 2.8284271247461903\n"
          ]
        }
      ],
      "source": [
        "data1 = [2, 2, 2, 'a']\n",
        "\n",
        "data2 = [4, 4, 4, 'b']\n",
        "\n",
        "distance = euclideanDistance(data1, data2, 3)\n",
        "\n",
        "print('Distance: ' + repr(distance))"
      ]
    },
    {
      "cell_type": "code",
      "execution_count": null,
      "id": "34e21a65",
      "metadata": {
        "id": "34e21a65"
      },
      "outputs": [],
      "source": [
        "import operator\n",
        "\n",
        "def getNeighbors(trainingSet, testInstance, k):\n",
        "\n",
        "    distances = []\n",
        "\n",
        "    length = len(testInstance)-1\n",
        "\n",
        "    for x in range(len(trainingSet)):\n",
        "\n",
        "        dist = euclideanDistance(testInstance, trainingSet[x], length)\n",
        "\n",
        "        distances.append((trainingSet[x], dist))\n",
        "\n",
        "        distances.sort(key=operator.itemgetter(1))\n",
        "\n",
        "    neighbors = []\n",
        "\n",
        "    for x in range(k):\n",
        "\n",
        "        neighbors.append(distances[x][0])\n",
        "\n",
        "    return neighbors\n"
      ]
    },
    {
      "cell_type": "code",
      "execution_count": null,
      "id": "d6696f8f",
      "metadata": {
        "id": "d6696f8f",
        "outputId": "0d67fd06-4ef6-4bef-f9ee-f73fd03ac8f1",
        "colab": {
          "base_uri": "https://localhost:8080/"
        }
      },
      "outputs": [
        {
          "output_type": "stream",
          "name": "stdout",
          "text": [
            "[[4, 4, 4, 'b']]\n"
          ]
        }
      ],
      "source": [
        "\n",
        "trainSet = [[2, 2, 2, 'a'], [4, 4, 4, 'b']]\n",
        "\n",
        "testInstance = [5, 5, 5]\n",
        "\n",
        "k = 1\n",
        "\n",
        "neighbors = getNeighbors(trainSet, testInstance, 1)\n",
        "\n",
        "print(neighbors)"
      ]
    },
    {
      "cell_type": "code",
      "execution_count": null,
      "id": "69a797ad",
      "metadata": {
        "id": "69a797ad"
      },
      "outputs": [],
      "source": [
        "import operator\n",
        "\n",
        "def getResponse(neighbors):\n",
        "\n",
        "    classVotes = {}\n",
        "\n",
        "    for x in range(len(neighbors)):\n",
        "\n",
        "        response = neighbors[x][3] #complete with appropriate number\n",
        "\n",
        "        if response in classVotes:\n",
        "            classVotes[response] += 1\n",
        "        else:\n",
        "            classVotes[response] = 1\n",
        "            \n",
        "    sortedVotes = sorted(classVotes.items(), key=operator.itemgetter(1), reverse=True)\n",
        "\n",
        "    return classVotes,sortedVotes[0][0]\n",
        "        "
      ]
    },
    {
      "cell_type": "code",
      "execution_count": null,
      "id": "059a1b5b",
      "metadata": {
        "id": "059a1b5b",
        "outputId": "9d30763e-e498-44f6-f3a2-c9a07e4cbae1",
        "colab": {
          "base_uri": "https://localhost:8080/"
        }
      },
      "outputs": [
        {
          "output_type": "stream",
          "name": "stdout",
          "text": [
            "classVotes :  {'a': 2, 'b': 1}\n",
            "response : a\n"
          ]
        }
      ],
      "source": [
        "neighbors = [[1,1,1,'a'], [2,2,2,'a'], [3,3,3,'b']]\n",
        "\n",
        "classVotes,response = getResponse(neighbors)\n",
        "print('classVotes : ',classVotes)\n",
        "print('response :',response)"
      ]
    },
    {
      "cell_type": "code",
      "execution_count": null,
      "id": "233df708",
      "metadata": {
        "id": "233df708"
      },
      "outputs": [],
      "source": [
        "def getAccuracy(testSet, predictions):\n",
        "    \n",
        "    correct = 0 \n",
        "    for x in range(len(predictions) - 1):\n",
        "        if testSet[x][-1] == predictions[x]:\n",
        "            correct += 1\n",
        "    return (correct/float(len(testSet))) * 100.0"
      ]
    },
    {
      "cell_type": "code",
      "execution_count": null,
      "id": "439d6bc4",
      "metadata": {
        "id": "439d6bc4",
        "outputId": "0905cc89-d74b-428f-d147-29ac102b7526",
        "colab": {
          "base_uri": "https://localhost:8080/"
        }
      },
      "outputs": [
        {
          "output_type": "stream",
          "name": "stdout",
          "text": [
            "66.66666666666666\n"
          ]
        }
      ],
      "source": [
        "testSet = [[1,1,1,'a'], [2,2,2,'a'], [3,3,3,'b']]\n",
        "\n",
        "predictions = ['a', 'a', 'a']\n",
        "\n",
        "accuracy = getAccuracy(testSet, predictions)\n",
        "\n",
        "print(accuracy)"
      ]
    },
    {
      "cell_type": "code",
      "execution_count": null,
      "id": "e94b70eb",
      "metadata": {
        "id": "e94b70eb",
        "outputId": "5a856bf6-9baf-4743-f8d2-0eff3d517bd5",
        "colab": {
          "base_uri": "https://localhost:8080/"
        }
      },
      "outputs": [
        {
          "output_type": "stream",
          "name": "stdout",
          "text": [
            "66.66666666666666\n"
          ]
        }
      ],
      "source": [
        "testSet = [[1,1,1,'a'], [2,2,2,'a'], [3,3,3,'b']]\n",
        "\n",
        "predictions = ['a', 'a', 'a']\n",
        "\n",
        "accuracy = getAccuracy(testSet, predictions)\n",
        "\n",
        "print(accuracy)"
      ]
    },
    {
      "cell_type": "code",
      "execution_count": null,
      "id": "9169d842",
      "metadata": {
        "id": "9169d842",
        "outputId": "a359f643-ba4d-437b-aa4f-4ad1078fb149",
        "colab": {
          "base_uri": "https://localhost:8080/"
        }
      },
      "outputs": [
        {
          "output_type": "stream",
          "name": "stdout",
          "text": [
            "Training=98\n",
            "Testing=51\n",
            "> predicted=({0.2: 3, 0.6: 1}, 0.2), actual='Iris-setosa'\n",
            "> predicted=({0.2: 2, 0.1: 2}, 0.2), actual='Iris-setosa'\n",
            "> predicted=({0.2: 4}, 0.2), actual='Iris-setosa'\n",
            "> predicted=({0.4: 1, 0.2: 1, 0.6: 1, 0.3: 1}, 0.4), actual='Iris-setosa'\n",
            "> predicted=({0.2: 2, 0.1: 1, 0.3: 1}, 0.2), actual='Iris-setosa'\n",
            "> predicted=({0.2: 4}, 0.2), actual='Iris-setosa'\n",
            "> predicted=({0.2: 1, 0.1: 3}, 0.1), actual='Iris-setosa'\n",
            "> predicted=({0.2: 3, 0.1: 1}, 0.2), actual='Iris-setosa'\n",
            "> predicted=({0.2: 3, 0.1: 1}, 0.2), actual='Iris-setosa'\n",
            "> predicted=({0.2: 3, 0.6: 1}, 0.2), actual='Iris-setosa'\n",
            "> predicted=({0.2: 3, 0.4: 1}, 0.2), actual='Iris-setosa'\n",
            "> predicted=({0.4: 1, 0.2: 2, 0.5: 1}, 0.2), actual='Iris-setosa'\n",
            "> predicted=({0.2: 3, 0.4: 1}, 0.2), actual='Iris-setosa'\n",
            "> predicted=({0.2: 2, 0.1: 2}, 0.2), actual='Iris-setosa'\n",
            "> predicted=({0.4: 1, 0.2: 3}, 0.2), actual='Iris-setosa'\n",
            "> predicted=({0.2: 3, 0.1: 1}, 0.2), actual='Iris-setosa'\n",
            "> predicted=({0.2: 2, 0.4: 1, 0.6: 1}, 0.2), actual='Iris-setosa'\n",
            "> predicted=({0.2: 3, 0.4: 1}, 0.2), actual='Iris-setosa'\n",
            "> predicted=({0.2: 3, 0.1: 1}, 0.2), actual='Iris-setosa'\n",
            "> predicted=({0.3: 1, 0.4: 1, 0.6: 1, 0.2: 1}, 0.3), actual='Iris-setosa'\n",
            "> predicted=({0.2: 1, 0.1: 3}, 0.1), actual='Iris-setosa'\n",
            "> predicted=({0.3: 1, 0.4: 1, 0.2: 1, 0.6: 1}, 0.3), actual='Iris-setosa'\n",
            "> predicted=({0.2: 3, 0.1: 1}, 0.2), actual='Iris-setosa'\n",
            "> predicted=({1.3: 1, 1.4: 1, 1.8: 1, 1.5: 1}, 1.3), actual='Iris-versicolor'\n",
            "> predicted=({1.0: 2, 1.1: 1, 1.4: 1}, 1.0), actual='Iris-versicolor'\n",
            "> predicted=({1.5: 1, 1.4: 2, 1.3: 1}, 1.4), actual='Iris-versicolor'\n",
            "> predicted=({1.0: 2, 1.1: 2}, 1.0), actual='Iris-versicolor'\n",
            "> predicted=({1.3: 3, 1.2: 1}, 1.3), actual='Iris-versicolor'\n",
            "> predicted=({1.3: 2, 1.1: 1, 1.0: 1}, 1.3), actual='Iris-versicolor'\n",
            "> predicted=({1.4: 1, 1.3: 1, 1.5: 2}, 1.5), actual='Iris-versicolor'\n",
            "> predicted=({1.2: 1, 1.3: 3}, 1.3), actual='Iris-versicolor'\n",
            "> predicted=({1.3: 3, 1.2: 1}, 1.3), actual='Iris-versicolor'\n",
            "> predicted=({1.3: 2, 1.5: 2}, 1.3), actual='Iris-versicolor'\n",
            "> predicted=({1.6: 1, 2.3: 2, 2.1: 1}, 2.3), actual='Iris-virginica'\n",
            "> predicted=({1.8: 1, 2.2: 1, 1.4: 1, 1.9: 1}, 1.8), actual='Iris-virginica'\n",
            "> predicted=({2.1: 1, 1.6: 1, 2.3: 1, 2.5: 1}, 2.1), actual='Iris-virginica'\n",
            "> predicted=({2.2: 1, 2.1: 1, 1.9: 1, 1.4: 1}, 2.2), actual='Iris-virginica'\n",
            "> predicted=({1.8: 1, 2.2: 1, 2.1: 1, 2.0: 1}, 1.8), actual='Iris-virginica'\n",
            "> predicted=({2.1: 1, 2.3: 1, 2.2: 1, 1.6: 1}, 2.1), actual='Iris-virginica'\n",
            "> predicted=({1.6: 1, 2.5: 1, 2.3: 2}, 2.3), actual='Iris-virginica'\n",
            "> predicted=({2.2: 1, 1.9: 1, 1.8: 1, 1.4: 1}, 2.2), actual='Iris-virginica'\n",
            "> predicted=({1.6: 1, 2.1: 1, 2.3: 2}, 2.3), actual='Iris-virginica'\n",
            "> predicted=({2.2: 1, 2.5: 1, 2.1: 1, 1.6: 1}, 2.2), actual='Iris-virginica'\n",
            "> predicted=({2.2: 1, 1.9: 1, 1.8: 1, 1.4: 1}, 2.2), actual='Iris-virginica'\n",
            "> predicted=({2.1: 1, 1.6: 1, 2.5: 1, 2.3: 1}, 2.1), actual='Iris-virginica'\n",
            "> predicted=({2.1: 2, 2.3: 1, 1.7: 1}, 2.1), actual='Iris-virginica'\n",
            "> predicted=({2.1: 2, 2.3: 1, 2.2: 1}, 2.1), actual='Iris-virginica'\n",
            "> predicted=({1.5: 1, 1.7: 1, 2.0: 1, 1.4: 1}, 1.5), actual='Iris-virginica'\n",
            "> predicted=({1.9: 1, 2.4: 1, 1.6: 1, 2.0: 1}, 1.9), actual='Iris-virginica'\n",
            "> predicted=({2.1: 1, 2.3: 2, 2.2: 1}, 2.3), actual='Iris-virginica'\n",
            "> predicted=({1.7: 1, 2.0: 2, 2.1: 1}, 2.0), actual='Iris-virginica'\n",
            "0.0\n"
          ]
        }
      ],
      "source": [
        "import csv\n",
        "import csv\n",
        "import random\n",
        "import math\n",
        "def main():\n",
        "    trainingSet=[]\n",
        "    testSet=[]\n",
        "    loadDataset('iris.data.txt', 0.67, trainingSet, testSet)\n",
        "    k = 4\n",
        "    predictions=[]\n",
        "    print(f\"Training={repr(len(trainingSet))}\")\n",
        "    print(f\"Testing={repr(len(testSet))}\")\n",
        "    for x in range(len(testSet)):\n",
        "        neighbors = getNeighbors(trainingSet, testSet[x], k)\n",
        "        result = getResponse(neighbors)\n",
        "        predictions.append(result)\n",
        "        print('> predicted=' + repr(result) + ', actual=' + repr(testSet[x][-1]))\n",
        "    accuracy = getAccuracy(testSet, predictions)\n",
        "    print(accuracy)\n",
        "main()\n",
        "    "
      ]
    },
    {
      "cell_type": "code",
      "execution_count": null,
      "id": "e34583d9",
      "metadata": {
        "id": "e34583d9",
        "outputId": "964213e3-ef4d-496d-832c-de6c7464f17a",
        "colab": {
          "base_uri": "https://localhost:8080/"
        }
      },
      "outputs": [
        {
          "output_type": "stream",
          "name": "stdout",
          "text": [
            "Training=99\n",
            "Testing=50\n",
            "> predicted=({0.2: 2, 0.3: 1, 0.1: 1}, 0.2), actual='Iris-setosa'\n",
            "> predicted=({0.2: 2, 0.1: 1, 0.3: 1}, 0.2), actual='Iris-setosa'\n",
            "> predicted=({0.2: 4}, 0.2), actual='Iris-setosa'\n",
            "> predicted=({0.4: 1, 0.2: 2, 0.6: 1}, 0.2), actual='Iris-setosa'\n",
            "> predicted=({0.3: 1, 0.2: 2, 0.1: 1}, 0.2), actual='Iris-setosa'\n",
            "> predicted=({0.4: 2, 0.2: 2}, 0.4), actual='Iris-setosa'\n",
            "> predicted=({0.2: 3, 0.3: 1}, 0.2), actual='Iris-setosa'\n",
            "> predicted=({0.2: 3, 0.4: 1}, 0.2), actual='Iris-setosa'\n",
            "> predicted=({0.3: 1, 0.2: 3}, 0.2), actual='Iris-setosa'\n",
            "> predicted=({0.4: 1, 0.2: 2, 0.6: 1}, 0.2), actual='Iris-setosa'\n",
            "> predicted=({0.2: 4}, 0.2), actual='Iris-setosa'\n",
            "> predicted=({0.2: 3, 0.1: 1}, 0.2), actual='Iris-setosa'\n",
            "> predicted=({0.4: 2, 0.1: 1, 0.2: 1}, 0.4), actual='Iris-setosa'\n",
            "> predicted=({0.1: 1, 0.2: 3}, 0.2), actual='Iris-setosa'\n",
            "> predicted=({0.1: 1, 0.2: 3}, 0.2), actual='Iris-setosa'\n",
            "> predicted=({0.2: 3, 0.1: 1}, 0.2), actual='Iris-setosa'\n",
            "> predicted=({0.2: 3, 0.4: 1}, 0.2), actual='Iris-setosa'\n",
            "> predicted=({0.2: 2, 0.1: 1, 0.3: 1}, 0.2), actual='Iris-setosa'\n",
            "> predicted=({0.2: 3, 0.1: 1}, 0.2), actual='Iris-setosa'\n",
            "> predicted=({0.3: 1, 0.2: 2, 0.4: 1}, 0.2), actual='Iris-setosa'\n",
            "> predicted=({2.3: 1, 1.7: 1, 1.4: 1, 1.5: 1}, 2.3), actual='Iris-versicolor'\n",
            "> predicted=({1.5: 3, 1.3: 1}, 1.5), actual='Iris-versicolor'\n",
            "> predicted=({1.3: 1, 1.1: 2, 1.0: 1}, 1.1), actual='Iris-versicolor'\n",
            "> predicted=({1.0: 1, 1.2: 1, 1.1: 1, 1.3: 1}, 1.0), actual='Iris-versicolor'\n",
            "> predicted=({1.3: 2, 1.2: 2}, 1.3), actual='Iris-versicolor'\n",
            "> predicted=({1.3: 3, 1.5: 1}, 1.3), actual='Iris-versicolor'\n",
            "> predicted=({1.4: 1, 1.5: 1, 1.2: 1, 1.8: 1}, 1.4), actual='Iris-versicolor'\n",
            "> predicted=({1.3: 3, 1.2: 1}, 1.3), actual='Iris-versicolor'\n",
            "> predicted=({1.3: 3, 1.5: 1}, 1.3), actual='Iris-versicolor'\n",
            "> predicted=({2.2: 1, 2.1: 1, 2.3: 1, 1.8: 1}, 2.2), actual='Iris-virginica'\n",
            "> predicted=({2.1: 2, 2.3: 1, 1.6: 1}, 2.1), actual='Iris-virginica'\n",
            "> predicted=({2.1: 1, 2.2: 2, 1.8: 1}, 2.2), actual='Iris-virginica'\n",
            "> predicted=({1.7: 1, 2.3: 1, 1.8: 1, 1.5: 1}, 1.7), actual='Iris-virginica'\n",
            "> predicted=({2.4: 1, 2.1: 2, 1.8: 1}, 2.1), actual='Iris-virginica'\n",
            "> predicted=({1.9: 1, 1.6: 1, 2.0: 2}, 2.0), actual='Iris-virginica'\n",
            "> predicted=({1.8: 2, 2.3: 1, 2.4: 1}, 1.8), actual='Iris-virginica'\n",
            "> predicted=({1.8: 2, 2.1: 1, 2.2: 1}, 1.8), actual='Iris-virginica'\n",
            "> predicted=({2.0: 1, 1.9: 1, 1.5: 1, 1.6: 1}, 2.0), actual='Iris-virginica'\n",
            "> predicted=({2.1: 2, 2.3: 1, 2.4: 1}, 2.1), actual='Iris-virginica'\n",
            "> predicted=({2.1: 1, 1.6: 1, 2.5: 1, 2.3: 1}, 2.1), actual='Iris-virginica'\n",
            "> predicted=({1.4: 1, 1.8: 2, 1.2: 1}, 1.8), actual='Iris-virginica'\n",
            "> predicted=({2.3: 1, 1.6: 1, 2.1: 2}, 2.1), actual='Iris-virginica'\n",
            "> predicted=({2.2: 1, 2.5: 1, 2.1: 1, 2.3: 1}, 2.2), actual='Iris-virginica'\n",
            "> predicted=({1.8: 1, 2.1: 1, 2.2: 1, 1.9: 1}, 1.8), actual='Iris-virginica'\n",
            "> predicted=({2.3: 1, 1.8: 1, 2.1: 1, 2.2: 1}, 2.3), actual='Iris-virginica'\n",
            "> predicted=({1.4: 1, 1.8: 2, 1.2: 1}, 1.8), actual='Iris-virginica'\n",
            "> predicted=({1.9: 1, 1.6: 1, 2.0: 2}, 2.0), actual='Iris-virginica'\n",
            "> predicted=({2.1: 1, 2.4: 1, 2.3: 1, 2.2: 1}, 2.1), actual='Iris-virginica'\n",
            "> predicted=({1.7: 1, 2.3: 1, 2.1: 1, 2.4: 1}, 1.7), actual='Iris-virginica'\n",
            "> predicted=({1.7: 1, 1.5: 1, 1.9: 1, 1.8: 1}, 1.7), actual='Iris-virginica'\n",
            "0.0\n"
          ]
        }
      ],
      "source": [
        "if __name__ == \"__main__\":\n",
        "    main()"
      ]
    }
  ],
  "metadata": {
    "kernelspec": {
      "display_name": "Python 3",
      "language": "python",
      "name": "python3"
    },
    "language_info": {
      "codemirror_mode": {
        "name": "ipython",
        "version": 3
      },
      "file_extension": ".py",
      "mimetype": "text/x-python",
      "name": "python",
      "nbconvert_exporter": "python",
      "pygments_lexer": "ipython3",
      "version": "3.8.8"
    },
    "colab": {
      "name": "kNN.ipynb",
      "provenance": []
    }
  },
  "nbformat": 4,
  "nbformat_minor": 5
}